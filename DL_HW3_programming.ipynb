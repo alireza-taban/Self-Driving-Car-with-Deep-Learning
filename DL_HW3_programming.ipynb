{
 "cells": [
  {
   "cell_type": "markdown",
   "id": "d9668b12",
   "metadata": {},
   "source": [
    "# Alireza Taban, 40105424"
   ]
  },
  {
   "cell_type": "markdown",
   "id": "95bfa9f1",
   "metadata": {},
   "source": [
    "###               This homework has been done on my PC"
   ]
  },
  {
   "cell_type": "markdown",
   "id": "a97add2d",
   "metadata": {},
   "source": [
    "### 1. Importing libraries\n",
    "* pandas: Reading csv file\n",
    "* tensorflow: Creating and training our model\n",
    "* sklearn: Data separation\n",
    "* numpy: Working with arrays and some functions like random, save, load, ...\n",
    "* glob: Finding images from directory\n",
    "* cv2: Reading and preprocessing images\n",
    "* matplotlib: Plotting the loss plot and showing images"
   ]
  },
  {
   "cell_type": "code",
   "execution_count": 1,
   "id": "3aa1c1d6",
   "metadata": {},
   "outputs": [
    {
     "name": "stdout",
     "output_type": "stream",
     "text": [
      "WARNING:tensorflow:From E:\\Anaconda\\Lib\\site-packages\\keras\\src\\losses.py:2976: The name tf.losses.sparse_softmax_cross_entropy is deprecated. Please use tf.compat.v1.losses.sparse_softmax_cross_entropy instead.\n",
      "\n"
     ]
    }
   ],
   "source": [
    "# importing needed libraries\n",
    "import pandas as pd\n",
    "import tensorflow as tf\n",
    "from tensorflow.keras import layers, models\n",
    "from sklearn.model_selection import train_test_split\n",
    "import numpy as np\n",
    "import cv2\n",
    "import glob\n",
    "import matplotlib.pyplot as plt"
   ]
  },
  {
   "cell_type": "markdown",
   "id": "76df9ac8",
   "metadata": {},
   "source": [
    "### 2. Reading and Preprocessing Data\n",
    "* First Reading labels using pandas\n",
    "    * Plotting the distribution of labels\n",
    "    * Detecting zero labels using a mask and randomly removing (prob=0.01) zero labels\n",
    "    \n",
    "    \n",
    "* Second Finding and Reading images using glob and cv2 and preprocessing\n",
    "    * Within a for loop over all images, preprocessing the images and storing their labels \n",
    "    * Plotting the distribution of final labels"
   ]
  },
  {
   "cell_type": "code",
   "execution_count": 2,
   "id": "4d7fac35",
   "metadata": {},
   "outputs": [
    {
     "name": "stdout",
     "output_type": "stream",
     "text": [
      "(6403,)\n",
      "(5725,)\n",
      "---------------------------------\n",
      "Number of whole data:  36384\n"
     ]
    }
   ],
   "source": [
    "# reading backward data using pandas dataframe\n",
    "b_dataframe = pd.read_csv(\"data\\\\b_data\\\\driving_log.csv\", header=None)\n",
    "b_labels = b_dataframe[3]\n",
    "print(b_labels.shape)\n",
    "\n",
    "# reading forward data using pandas dataframe\n",
    "f_dataframe = pd.read_csv(\"data\\\\f_data\\\\driving_log.csv\", header=None)\n",
    "f_labels = f_dataframe[3]\n",
    "print(f_labels.shape)\n",
    "\n",
    "# According to our collected data, first we have center camera, second camera and right camera\n",
    "# So we can concatenate our labels 3 times for each backward and forward data separately\n",
    "b_labels = np.tile(b_labels, 3)\n",
    "f_labels = np.tile(f_labels, 3)\n",
    "labels = np.hstack([b_labels, f_labels])\n",
    "\n",
    "print('---------------------------------')\n",
    "print(\"Number of whole data: \", labels.shape[0])"
   ]
  },
  {
   "cell_type": "code",
   "execution_count": 3,
   "id": "1fd1f475",
   "metadata": {},
   "outputs": [
    {
     "data": {
      "image/png": "[encoded data removed]",
      "text/plain": [
       "<Figure size 640x480 with 1 Axes>"
      ]
     },
     "metadata": {},
     "output_type": "display_data"
    }
   ],
   "source": [
    "# Plotting the distribution of our continuous labels\n",
    "# As you can see most of the labels are equal to 0, but the distribution is similar to Normal Distribution\n",
    "plt.hist(labels, 50, rwidth=0.9)\n",
    "plt.show()"
   ]
  },
  {
   "cell_type": "code",
   "execution_count": 4,
   "id": "543e14da",
   "metadata": {},
   "outputs": [],
   "source": [
    "# Creating a mask for detecting zero labels and randomly removing them (prob=0.01)\n",
    "non_zero_condition = (labels != 0)\n",
    "random_condition = (np.random.random_sample(labels.shape) < 0.01)\n",
    "selected = np.logical_or(non_zero_condition, random_condition)"
   ]
  },
  {
   "cell_type": "code",
   "execution_count": 5,
   "id": "fad934ff",
   "metadata": {},
   "outputs": [],
   "source": [
    "labels_new = list()\n",
    "data_list = list()\n",
    "num = len(glob.glob('data\\\\*\\\\*\\\\*.jpg'))"
   ]
  },
  {
   "cell_type": "code",
   "execution_count": 6,
   "id": "371d3e41",
   "metadata": {},
   "outputs": [
    {
     "name": "stdout",
     "output_type": "stream",
     "text": [
      "--> 0/36384\n",
      "--> 6000/36384\n",
      "--> 12000/36384\n",
      "--> 18000/36384\n",
      "--> 24000/36384\n",
      "--> 30000/36384\n",
      "--> 36000/36384\n",
      "List of preprocessed selected images (data_list) and their labels (labels_new) is ready!\n"
     ]
    }
   ],
   "source": [
    "# Preprocessing\n",
    "for index, Address in enumerate(glob.glob(\"data\\\\*\\\\*\\\\*.jpg\")):\n",
    "    if selected[index]:\n",
    "        # Reading image\n",
    "        image = cv2.imread(Address)\n",
    "        # Croping image\n",
    "        image = image[60:135, :, :]\n",
    "        # Changing image space from RGB to YUV\n",
    "        image = cv2.cvtColor(image, cv2.COLOR_RGB2YUV)\n",
    "        # Noising!\n",
    "        image = cv2.GaussianBlur(image, (3, 3), 0)\n",
    "        # Resizing according to Nvidia\n",
    "        image = cv2.resize(image, (200, 66))\n",
    "        # Normalizing\n",
    "        image = (image/127.5) - 1.0\n",
    "        \n",
    "        # Storing preprocessed image\n",
    "        data_list.append(image)\n",
    "        \n",
    "        # Recommended: For left/right cameras adding/subtracting 0.2 to streering angle\n",
    "        l_r = Address.split(\"\\\\\")[-1].split(\"_\")[0]\n",
    "        if l_r == \"left\":\n",
    "            labels[index] += 0.2\n",
    "        elif l_r == \"right\":\n",
    "            labels[index] -= 0.2\n",
    "            \n",
    "        # Storing updated label for each chosen image from selected list\n",
    "        labels_new.append(labels[index])\n",
    "       \n",
    "    if index % 6000 == 0:\n",
    "        print(f\"--> {index}/{num}\")\n",
    "        \n",
    "print(\"List of preprocessed selected images (data_list) and their labels (labels_new) is ready!\")"
   ]
  },
  {
   "cell_type": "code",
   "execution_count": 7,
   "id": "7f80fb4e",
   "metadata": {},
   "outputs": [
    {
     "data": {
      "text/plain": [
       "(29685, 29685)"
      ]
     },
     "execution_count": 7,
     "metadata": {},
     "output_type": "execute_result"
    }
   ],
   "source": [
    "len(data_list), len(labels_new) # Dimension Check!"
   ]
  },
  {
   "cell_type": "code",
   "execution_count": 8,
   "id": "0ad08924",
   "metadata": {},
   "outputs": [
    {
     "data": {
      "image/png": "[encoded data removed]",
      "text/plain": [
       "<Figure size 640x480 with 1 Axes>"
      ]
     },
     "metadata": {},
     "output_type": "display_data"
    }
   ],
   "source": [
    "# Plotting the distribution of our final continuous labels (similar to Normal Distribution)\n",
    "plt.hist(labels_new, 50, rwidth=0.9)\n",
    "plt.show()"
   ]
  },
  {
   "cell_type": "code",
   "execution_count": 9,
   "id": "484b14fd",
   "metadata": {},
   "outputs": [],
   "source": [
    "del labels\n",
    "del selected\n",
    "np.save('preprocessed_data.npy', data_list)\n",
    "np.save('preprocess_data_labels.npy', labels_new)"
   ]
  },
  {
   "cell_type": "markdown",
   "id": "18e85412",
   "metadata": {},
   "source": [
    "* Restart Kernel and then continue"
   ]
  },
  {
   "cell_type": "code",
   "execution_count": 2,
   "id": "8f3330d8",
   "metadata": {},
   "outputs": [],
   "source": [
    "# Loading data after restarting kernel\n",
    "data_list = np.load('preprocessed_data.npy')\n",
    "labels = np.load('preprocess_data_labels.npy')"
   ]
  },
  {
   "cell_type": "code",
   "execution_count": 3,
   "id": "c90874d5",
   "metadata": {},
   "outputs": [
    {
     "data": {
      "text/plain": [
       "(29685, 29685)"
      ]
     },
     "execution_count": 3,
     "metadata": {},
     "output_type": "execute_result"
    }
   ],
   "source": [
    "len(data_list), len(labels) # Dimension Check!"
   ]
  },
  {
   "cell_type": "code",
   "execution_count": 4,
   "id": "fc004f9d",
   "metadata": {},
   "outputs": [],
   "source": [
    "# Spliting data\n",
    "data = np.array(data_list)\n",
    "x_train, x_test, y_train, y_test = train_test_split(data, labels, test_size=0.2)"
   ]
  },
  {
   "cell_type": "code",
   "execution_count": 5,
   "id": "c22be659",
   "metadata": {},
   "outputs": [],
   "source": [
    "del data\n",
    "del data_list\n",
    "np.save('x_train.npy', x_train)\n",
    "np.save('x_test.npy', x_test)\n",
    "np.save('y_train.npy', y_train)\n",
    "np.save('y_test.npy', y_test)"
   ]
  },
  {
   "cell_type": "markdown",
   "id": "cf8eaf13",
   "metadata": {},
   "source": [
    "* Restart Kernel and then continue"
   ]
  },
  {
   "cell_type": "markdown",
   "id": "0683acab",
   "metadata": {},
   "source": [
    "### 3. Data Augmentation\n",
    "* Flip ↔️\n",
    "* Rotation 🌀🔄\n",
    "* Zoom 🔍\n",
    "* Pan 🌐\n",
    "* Brightness ✨"
   ]
  },
  {
   "cell_type": "code",
   "execution_count": 2,
   "id": "f7efc484",
   "metadata": {},
   "outputs": [],
   "source": [
    "x_train = np.load(\"x_train.npy\")\n",
    "y_train = np.load(\"y_train.npy\")\n",
    "x_test = np.load(\"x_test.npy\")\n",
    "y_test = np.load(\"y_test.npy\")"
   ]
  },
  {
   "cell_type": "code",
   "execution_count": 3,
   "id": "7dd5b3a2",
   "metadata": {},
   "outputs": [
    {
     "data": {
      "text/plain": [
       "(23797, 66, 200, 3)"
      ]
     },
     "execution_count": 3,
     "metadata": {},
     "output_type": "execute_result"
    }
   ],
   "source": [
    "x_train.shape"
   ]
  },
  {
   "cell_type": "code",
   "execution_count": 4,
   "id": "d6239151",
   "metadata": {},
   "outputs": [],
   "source": [
    "# Augmenting the input training data\n",
    "def augmentation(x, y):\n",
    "#     new_y = []\n",
    "#     new_x = []\n",
    "    for j in range(len(x)):\n",
    "        if (np.random.random() < 0.6):\n",
    "            \n",
    "            # Flip\n",
    "            if (np.random.random() < 0.65):\n",
    "                x[j] = cv2.flip(x[j], 1)\n",
    "                y[j] = -y[j]\n",
    "#                 new_y.append(y[j])\n",
    "#                 new_x.append(x[j])\n",
    "            # Rotation\n",
    "            if (np.random.random_sample() < 0.65):\n",
    "                rotate = layers.RandomRotation(factor=(-10 / 360, 10 / 360), fill_mode=\"constant\")\n",
    "                img_rotated = rotate(tf.expand_dims(x[j], 0)) \n",
    "                img_rotated = tf.squeeze(img_rotated, 0) \n",
    "                x[j] = img_rotated.numpy()\n",
    "#                 new_y.append(y[j])\n",
    "#                 new_x.append(x[j])\n",
    "            # Zoom\n",
    "            if (np.random.random() < 0.65):\n",
    "                zoom = layers.RandomZoom(height_factor=(-0.15, -0.05), fill_mode=\"constant\")\n",
    "                img_zoomed = zoom(tf.expand_dims(x[j], 0)) \n",
    "                img_zoomed = tf.squeeze(img_zoomed, 0) \n",
    "                x[j] = img_zoomed.numpy()\n",
    "#                 new_y.append(y[j])\n",
    "#                 new_x.append(x[j])\n",
    "\n",
    "            # Pan\n",
    "            if (np.random.random() < 0.65):\n",
    "                TM = np.float32([[1, 0, x[j].shape[1] * np.random.uniform(-0.1, 0.1)], [0, 1, x[j].shape[0] * np.random.uniform(-0.1, 0.1)]])\n",
    "                x[j] = cv2.warpAffine(x[j], TM, (x[j].shape[1], x[j].shape[0]))\n",
    "#                 new_y.append(y[j])\n",
    "#                 new_x.append(x[j])\n",
    "            \n",
    "            # Brightness\n",
    "            if (np.random.random_sample() < 0.65):\n",
    "                brightness = layers.RandomBrightness(0.3, value_range=(-1.0, 1.0))\n",
    "                img_brightened = brightness(tf.expand_dims(x[j], 0))  \n",
    "                img_brightened = tf.squeeze(img_brightened, 0) \n",
    "                x[j] = img_brightened.numpy()\n",
    "#                 new_y.append(y[j])\n",
    "#                 new_x.append(x[j])\n",
    "#     new_y1 = np.array(new_y)\n",
    "#     new_x1 = np.array(new_x)\n",
    "#     return new_x1, new_y1"
   ]
  },
  {
   "cell_type": "code",
   "execution_count": 5,
   "id": "c64e5424",
   "metadata": {},
   "outputs": [],
   "source": [
    "# If enough RAM is available this block can be used instead of the next block\n",
    "# x_temp, y_temp = augmentation(x_train, y_train)\n",
    "# x_train_new = np.concatenate([x_train, x_temp])\n",
    "# del x_train\n",
    "# del x_temp\n",
    "# y_train_new = np.concatenate([y_train, y_temp])\n",
    "# del y_train\n",
    "# del y_temp"
   ]
  },
  {
   "cell_type": "code",
   "execution_count": 6,
   "id": "8bf73e9f",
   "metadata": {},
   "outputs": [
    {
     "name": "stdout",
     "output_type": "stream",
     "text": [
      "WARNING:tensorflow:From E:\\Anaconda\\Lib\\site-packages\\keras\\src\\backend.py:873: The name tf.get_default_graph is deprecated. Please use tf.compat.v1.get_default_graph instead.\n",
      "\n"
     ]
    }
   ],
   "source": [
    "# Running the augmentation function and replacing the augmented images with their original images\n",
    "augmentation(x_train, y_train)"
   ]
  },
  {
   "cell_type": "markdown",
   "id": "9cb9cdf1",
   "metadata": {},
   "source": [
    "### 4. Mini-Batch Generator and Training the Model\n",
    "* 2 approaches for generating every mini-batch is considered\n",
    "    * my_generator1: Generates every mini-batch while training the model, with the assumption that the data is augmented earlier\n",
    "    * my_generator2: After generating every mini-batch, run augmentation function and concatenates new data to the mini-batch generated\n",
    "* Creating model using tensorflow Sequential function according to the architecture given 🛠️\n",
    "    * Compiling the model to set adam optimizer and MSE as loss function and MAE as a metric\n",
    "* Plotting the loss-epoch and val_loss-epoch curves (to check training procedure and overfitting) 📈"
   ]
  },
  {
   "cell_type": "code",
   "execution_count": 7,
   "id": "d77303b0",
   "metadata": {},
   "outputs": [],
   "source": [
    "# Yielding a mini-batch of data, every time the function is called\n",
    "def my_generator1(x, y, batch_size):\n",
    "    # Using while True for restarting for next epoch\n",
    "    while True:\n",
    "        # Iterating on every mini-batches of whole data\n",
    "        for i in range(0, len(x), batch_size):\n",
    "            \n",
    "            x_batch = x[i : i+batch_size]\n",
    "            y_batch = y[i : i+batch_size]\n",
    "\n",
    "            yield x_batch, y_batch"
   ]
  },
  {
   "cell_type": "code",
   "execution_count": 7,
   "id": "9630b80d",
   "metadata": {},
   "outputs": [],
   "source": [
    "# def my_generator2(x, y, batch_size):\n",
    "#     while True:\n",
    "#         for i in range(0, len(x), batch_size):\n",
    "#             x_batch = x[i : i+batch_size]\n",
    "#             y_batch = y[i : i+batch_size]\n",
    "\n",
    "#             x_batch_aug, y_batch_aug = augmentation(x_batch, y_batch)\n",
    "\n",
    "#             yield (\n",
    "#                 np.concatenate([x_batch, x_batch_aug]),\n",
    "#                 np.concatenate([y_batch, y_batch_aug])\n",
    "#             )"
   ]
  },
  {
   "cell_type": "code",
   "execution_count": 8,
   "id": "55b9c256",
   "metadata": {
    "scrolled": false
   },
   "outputs": [
    {
     "name": "stdout",
     "output_type": "stream",
     "text": [
      "WARNING:tensorflow:From E:\\Anaconda\\Lib\\site-packages\\keras\\src\\optimizers\\__init__.py:309: The name tf.train.Optimizer is deprecated. Please use tf.compat.v1.train.Optimizer instead.\n",
      "\n",
      "Epoch 1/10\n",
      "WARNING:tensorflow:From E:\\Anaconda\\Lib\\site-packages\\keras\\src\\utils\\tf_utils.py:492: The name tf.ragged.RaggedTensorValue is deprecated. Please use tf.compat.v1.ragged.RaggedTensorValue instead.\n",
      "\n",
      "WARNING:tensorflow:From E:\\Anaconda\\Lib\\site-packages\\keras\\src\\engine\\base_layer_utils.py:384: The name tf.executing_eagerly_outside_functions is deprecated. Please use tf.compat.v1.executing_eagerly_outside_functions instead.\n",
      "\n",
      "743/743 [==============================] - 65s 84ms/step - loss: 0.0293 - mae: 0.1304 - val_loss: 0.0220 - val_mae: 0.1095\n",
      "Epoch 2/10\n",
      "743/743 [==============================] - 59s 79ms/step - loss: 0.0216 - mae: 0.1099 - val_loss: 0.0193 - val_mae: 0.1006\n",
      "Epoch 3/10\n",
      "743/743 [==============================] - 57s 77ms/step - loss: 0.0196 - mae: 0.1040 - val_loss: 0.0181 - val_mae: 0.0975\n",
      "Epoch 4/10\n",
      "743/743 [==============================] - 55s 74ms/step - loss: 0.0183 - mae: 0.1002 - val_loss: 0.0167 - val_mae: 0.0928\n",
      "Epoch 5/10\n",
      "743/743 [==============================] - 57s 77ms/step - loss: 0.0176 - mae: 0.0980 - val_loss: 0.0170 - val_mae: 0.0936\n",
      "Epoch 6/10\n",
      "743/743 [==============================] - 56s 75ms/step - loss: 0.0167 - mae: 0.0957 - val_loss: 0.0169 - val_mae: 0.0942\n",
      "Epoch 7/10\n",
      "743/743 [==============================] - 56s 76ms/step - loss: 0.0159 - mae: 0.0934 - val_loss: 0.0170 - val_mae: 0.0938\n",
      "Epoch 8/10\n",
      "743/743 [==============================] - 56s 75ms/step - loss: 0.0150 - mae: 0.0909 - val_loss: 0.0177 - val_mae: 0.0955\n",
      "Epoch 9/10\n",
      "743/743 [==============================] - 55s 75ms/step - loss: 0.0140 - mae: 0.0884 - val_loss: 0.0179 - val_mae: 0.0962\n",
      "Epoch 10/10\n",
      "743/743 [==============================] - 56s 75ms/step - loss: 0.0134 - mae: 0.0866 - val_loss: 0.0169 - val_mae: 0.0931\n"
     ]
    }
   ],
   "source": [
    "# Defining the model according to the given architecture\n",
    "model = models.Sequential([\n",
    "#         layers.Conv2D(24, (5, 5), activation=\"relu\", input_shape=(66, 200, 3)),\n",
    "        layers.Conv2D(24, (5, 5), activation=\"relu\", input_shape=(66, 200, 3), strides=(2, 2)),\n",
    "        layers.Conv2D(36, (5, 5), activation=\"relu\", strides=(2, 2)),\n",
    "        layers.Conv2D(48, (5, 5), activation=\"relu\", strides=(2, 2)),\n",
    "        layers.Conv2D(64, (3, 3), activation=\"relu\"),\n",
    "        layers.Conv2D(64, (3, 3), activation=\"relu\"),\n",
    "        layers.Flatten(),\n",
    "        layers.Dense(100, activation=\"relu\"),\n",
    "        layers.Dense(50, activation=\"relu\"),\n",
    "        layers.Dense(10, activation=\"relu\"),\n",
    "        layers.Dense(1, activation=\"linear\"),\n",
    "])\n",
    "\n",
    "# Setting the Adam optimizer and MSE for loss and MAE for regression metrics\n",
    "model.compile(optimizer=\"adam\",\n",
    "              loss=\"mse\",\n",
    "              metrics=[\"mae\"])\n",
    "\n",
    "# History of the model's information after training\n",
    "hist = model.fit(my_generator1(x_train, y_train, batch_size=32),\n",
    "                 steps_per_epoch=len(x_train)//32,\n",
    "                 epochs=10,\n",
    "                 validation_data=(x_test, y_test),\n",
    "                )\n",
    "# history = model.fit(my_generator(x_train_new, y_train_new, batch_size=32),\n",
    "#                  steps_per_epoch=len(x_train)//32,\n",
    "#                  epochs=10,\n",
    "#                  validation_data=(x_test, y_test),\n",
    "#                 )"
   ]
  },
  {
   "cell_type": "code",
   "execution_count": 9,
   "id": "3382e225",
   "metadata": {},
   "outputs": [
    {
     "data": {
      "image/png": "[encoded data removed]",
      "text/plain": [
       "<Figure size 640x480 with 1 Axes>"
      ]
     },
     "metadata": {},
     "output_type": "display_data"
    }
   ],
   "source": [
    "# Plotting the loss value during training\n",
    "plt.plot(hist.history[\"loss\"], label=\"loss\")\n",
    "plt.plot(hist.history[\"val_loss\"], label=\"val_loss\")\n",
    "plt.xlabel(\"epochs\")\n",
    "plt.ylabel(\"MSE error\")\n",
    "plt.legend()\n",
    "plt.show()"
   ]
  },
  {
   "cell_type": "code",
   "execution_count": 10,
   "id": "11c233df",
   "metadata": {},
   "outputs": [
    {
     "data": {
      "image/png": "[encoded data removed]",
      "text/plain": [
       "<Figure size 640x480 with 1 Axes>"
      ]
     },
     "metadata": {},
     "output_type": "display_data"
    }
   ],
   "source": [
    "# Plotting the MAE value during training\n",
    "plt.plot(hist.history[\"mae\"], label=\"mae\")\n",
    "plt.plot(hist.history[\"val_mae\"], label=\"val_mae\")\n",
    "plt.xlabel(\"epochs\")\n",
    "plt.ylabel(\"MAE error\")\n",
    "plt.legend()\n",
    "plt.show()"
   ]
  },
  {
   "cell_type": "code",
   "execution_count": 12,
   "id": "fe94e2a7",
   "metadata": {
    "scrolled": true
   },
   "outputs": [],
   "source": [
    "model.save(\"my_self_driving_model.h5\")"
   ]
  },
  {
   "cell_type": "code",
   "execution_count": 13,
   "id": "7d4b1ce4",
   "metadata": {},
   "outputs": [
    {
     "name": "stdout",
     "output_type": "stream",
     "text": [
      "Model: \"sequential\"\n",
      "_________________________________________________________________\n",
      " Layer (type)                Output Shape              Param #   \n",
      "=================================================================\n",
      " conv2d (Conv2D)             (None, 31, 98, 24)        1824      \n",
      "                                                                 \n",
      " conv2d_1 (Conv2D)           (None, 14, 47, 36)        21636     \n",
      "                                                                 \n",
      " conv2d_2 (Conv2D)           (None, 5, 22, 48)         43248     \n",
      "                                                                 \n",
      " conv2d_3 (Conv2D)           (None, 3, 20, 64)         27712     \n",
      "                                                                 \n",
      " conv2d_4 (Conv2D)           (None, 1, 18, 64)         36928     \n",
      "                                                                 \n",
      " flatten (Flatten)           (None, 1152)              0         \n",
      "                                                                 \n",
      " dense (Dense)               (None, 100)               115300    \n",
      "                                                                 \n",
      " dense_1 (Dense)             (None, 50)                5050      \n",
      "                                                                 \n",
      " dense_2 (Dense)             (None, 10)                510       \n",
      "                                                                 \n",
      " dense_3 (Dense)             (None, 1)                 11        \n",
      "                                                                 \n",
      "=================================================================\n",
      "Total params: 252219 (985.23 KB)\n",
      "Trainable params: 252219 (985.23 KB)\n",
      "Non-trainable params: 0 (0.00 Byte)\n",
      "_________________________________________________________________\n"
     ]
    }
   ],
   "source": [
    "model.summary()"
   ]
  }
 ],
 "metadata": {
  "kernelspec": {
   "display_name": "Python 3 (ipykernel)",
   "language": "python",
   "name": "python3"
  },
  "language_info": {
   "codemirror_mode": {
    "name": "ipython",
    "version": 3
   },
   "file_extension": ".py",
   "mimetype": "text/x-python",
   "name": "python",
   "nbconvert_exporter": "python",
   "pygments_lexer": "ipython3",
   "version": "3.11.5"
  }
 },
 "nbformat": 4,
 "nbformat_minor": 5
}
